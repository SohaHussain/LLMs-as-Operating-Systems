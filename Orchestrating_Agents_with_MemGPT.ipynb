{
  "cells": [
    {
      "cell_type": "markdown",
      "id": "4afc3580d148e5df",
      "metadata": {
        "id": "4afc3580d148e5df"
      },
      "source": [
        "# Multi-agent Orchestration"
      ]
    },
    {
      "cell_type": "markdown",
      "id": "1fc645c4cb6f9c1c",
      "metadata": {
        "id": "1fc645c4cb6f9c1c"
      },
      "source": [
        "## Setup"
      ]
    },
    {
      "cell_type": "code",
      "execution_count": null,
      "id": "a7a039f8-ea25-4d4e-9903-ba146ffe33bb",
      "metadata": {
        "height": 64,
        "id": "a7a039f8-ea25-4d4e-9903-ba146ffe33bb"
      },
      "outputs": [],
      "source": [
        "from letta_client import Letta\n",
        "\n",
        "client = Letta(base_url=\"http://localhost:8283\")"
      ]
    },
    {
      "cell_type": "code",
      "execution_count": null,
      "id": "07d24220-706f-4ccf-b9f4-89a402756231",
      "metadata": {
        "height": 353,
        "id": "07d24220-706f-4ccf-b9f4-89a402756231"
      },
      "outputs": [],
      "source": [
        "def print_message(message):\n",
        "    if message.message_type == \"reasoning_message\":\n",
        "        print(\"🧠 Reasoning: \" + message.reasoning)\n",
        "    elif message.message_type == \"assistant_message\":\n",
        "        print(\"🤖 Agent: \" + message.content)\n",
        "    elif message.message_type == \"tool_call_message\":\n",
        "        print(\"🔧 Tool Call: \" + message.tool_call.name +  \\\n",
        "              \"\\n\" + message.tool_call.arguments)\n",
        "    elif message.message_type == \"tool_return_message\":\n",
        "        print(\"🔧 Tool Return: \" + message.tool_return)\n",
        "    elif message.message_type == \"user_message\":\n",
        "        print(\"👤 User Message: \" + message.content)\n",
        "    elif message.message_type == \"system_message\":\n",
        "        print(\" System Message: \" + message.content)\n",
        "    elif message.message_type == \"usage_statistics\":\n",
        "        # for streaming specifically, we send the final\n",
        "        # chunk that contains the usage statistics\n",
        "        print(f\"Usage: [{message}]\")\n",
        "        return\n",
        "    print(\"-----------------------------------------------------\")"
      ]
    },
    {
      "cell_type": "markdown",
      "id": "d416863a-42a1-4049-922c-e10ff1afe4dc",
      "metadata": {
        "id": "d416863a-42a1-4049-922c-e10ff1afe4dc"
      },
      "source": [
        "## Section 1: Shared Memory Block"
      ]
    },
    {
      "cell_type": "markdown",
      "id": "b1afe5c8de3d7b6d",
      "metadata": {
        "id": "b1afe5c8de3d7b6d"
      },
      "source": [
        "### Creating a shared memory block"
      ]
    },
    {
      "cell_type": "code",
      "execution_count": null,
      "id": "0705a088-7af0-4518-916b-b90407a97ff3",
      "metadata": {
        "height": 166,
        "id": "0705a088-7af0-4518-916b-b90407a97ff3"
      },
      "outputs": [],
      "source": [
        "company_description = \"The company is called AgentOS \" \\\n",
        "+ \"and is building AI tools to make it easier to create \" \\\n",
        "+ \"and deploy LLM agents.\"\n",
        "\n",
        "company_block = client.blocks.create(\n",
        "    value=company_description,\n",
        "    label=\"company\",\n",
        "    limit=10000 # character limit\n",
        ")"
      ]
    },
    {
      "cell_type": "code",
      "execution_count": null,
      "id": "802f9b54-f808-4899-a503-ef022b3e9f46",
      "metadata": {
        "height": 30,
        "id": "802f9b54-f808-4899-a503-ef022b3e9f46",
        "outputId": "a9a43e6e-f806-4189-de39-f7b1e125256b"
      },
      "outputs": [
        {
          "data": {
            "text/plain": [
              "Block(value='The company is called AgentOS and is building AI tools to make it easier to create and deploy LLM agents.', limit=10000, name=None, is_template=False, label='company', description=None, metadata={}, id='block-3c83a560-d697-44fe-95e5-6445493961ef', created_by_id=None, last_updated_by_id=None, organization_id='org-00000000-0000-4000-8000-000000000000')"
            ]
          },
          "execution_count": 4,
          "metadata": {},
          "output_type": "execute_result"
        }
      ],
      "source": [
        "company_block"
      ]
    },
    {
      "cell_type": "markdown",
      "id": "f43782d3-4001-454a-b04b-4d313b196fc9",
      "metadata": {
        "id": "f43782d3-4001-454a-b04b-4d313b196fc9"
      },
      "source": [
        "## Section 2: Orchestrating Multiple Agents"
      ]
    },
    {
      "cell_type": "markdown",
      "id": "c7410dc7204beef3",
      "metadata": {
        "id": "c7410dc7204beef3"
      },
      "source": [
        "### Creating tools for the outreach agent"
      ]
    },
    {
      "cell_type": "code",
      "execution_count": null,
      "id": "fccf3104-9aa6-42a3-a68c-81aea1a41302",
      "metadata": {
        "height": 166,
        "id": "fccf3104-9aa6-42a3-a68c-81aea1a41302"
      },
      "outputs": [],
      "source": [
        "def draft_candidate_email(content: str):\n",
        "    \"\"\"\n",
        "    Draft an email to reach out to a candidate.\n",
        "\n",
        "    Args:\n",
        "        content (str): Content of the email\n",
        "    \"\"\"\n",
        "    return f\"Here is a draft email: {content}\"\n",
        "draft_email_tool = client.tools.upsert_from_function(func=draft_candidate_email)"
      ]
    },
    {
      "cell_type": "markdown",
      "id": "4e79fa2c736493db",
      "metadata": {
        "id": "4e79fa2c736493db"
      },
      "source": [
        "### Creating the outreach agent"
      ]
    },
    {
      "cell_type": "code",
      "execution_count": null,
      "id": "621a0bff-84d6-4ddf-96b8-84a5d015fab6",
      "metadata": {
        "height": 285,
        "id": "621a0bff-84d6-4ddf-96b8-84a5d015fab6"
      },
      "outputs": [],
      "source": [
        "outreach_persona = (\n",
        "    \"You are responsible for drafting emails \"\n",
        "    \"on behalf of a company with the draft_candidate_email tool. \"\n",
        "    \"Candidates to email will be messaged to you. \"\n",
        ")\n",
        "\n",
        "outreach_agent = client.agents.create(\n",
        "    name=\"outreach_agent\",\n",
        "    memory_blocks=[\n",
        "        {\"label\": \"persona\", \"value\": outreach_persona}\n",
        "    ],\n",
        "    model=\"openai/gpt-4o-mini-2024-07-18\",\n",
        "    embedding=\"openai/text-embedding-ada-002\",\n",
        "    tools=[draft_email_tool.name],\n",
        "    block_ids=[company_block.id]\n",
        ")"
      ]
    },
    {
      "cell_type": "markdown",
      "id": "7c39188ce3d016a9",
      "metadata": {
        "id": "7c39188ce3d016a9"
      },
      "source": [
        "### Creating tools for the evaluation agent"
      ]
    },
    {
      "cell_type": "code",
      "execution_count": null,
      "id": "085b4bc6-df65-45a2-85d1-c711e9301e12",
      "metadata": {
        "height": 200,
        "id": "085b4bc6-df65-45a2-85d1-c711e9301e12"
      },
      "outputs": [],
      "source": [
        "def reject(candidate_name: str):\n",
        "    \"\"\"\n",
        "    Reject a candidate.\n",
        "\n",
        "    Args:\n",
        "        candidate_name (str): The name of the candidate\n",
        "    \"\"\"\n",
        "    return\n",
        "\n",
        "\n",
        "reject_tool = client.tools.upsert_from_function(func=reject)"
      ]
    },
    {
      "cell_type": "markdown",
      "id": "d168755eabd8abe2",
      "metadata": {
        "id": "d168755eabd8abe2"
      },
      "source": [
        "### Creating a persona for the evaluation agent"
      ]
    },
    {
      "cell_type": "code",
      "execution_count": null,
      "id": "1d7c600f-3c48-4278-8832-be135f80e452",
      "metadata": {
        "height": 166,
        "id": "1d7c600f-3c48-4278-8832-be135f80e452"
      },
      "outputs": [],
      "source": [
        "skills = \"Front-end (React, Typescript) or software engineering skills\"\n",
        "\n",
        "eval_persona = (\n",
        "    f\"You are responsible for evaluating candidates. \"\n",
        "    f\"Ideal candidates have skills: {skills}. \"\n",
        "    \"Reject bad candidates with your reject tool. \"\n",
        "    f\"Send strong candidates to agent ID {outreach_agent.id}. \"\n",
        "    \"You must either reject or send candidates to the other agent. \"\n",
        ")"
      ]
    },
    {
      "cell_type": "markdown",
      "id": "65ce81d5d856374e",
      "metadata": {
        "id": "65ce81d5d856374e"
      },
      "source": [
        "### Creating the evaluation agent"
      ]
    },
    {
      "cell_type": "code",
      "execution_count": null,
      "id": "8268b212-605c-40e9-bdcf-ddf9a3a442a3",
      "metadata": {
        "height": 319,
        "id": "8268b212-605c-40e9-bdcf-ddf9a3a442a3"
      },
      "outputs": [],
      "source": [
        "eval_agent = client.agents.create(\n",
        "    name=\"eval_agent\",\n",
        "    memory_blocks=[\n",
        "        {\"label\": \"persona\", \"value\": eval_persona}\n",
        "    ],\n",
        "    model=\"openai/gpt-4o-mini-2024-07-18\",\n",
        "    embedding=\"openai/text-embedding-ada-002\",\n",
        "    tool_ids=[reject_tool.id],\n",
        "    tools=['send_message_to_agent_and_wait_for_reply'],\n",
        "    include_base_tools=False,\n",
        "    block_ids=[company_block.id],\n",
        "    tool_rules = [\n",
        "        {\n",
        "            \"type\": \"exit_loop\",\n",
        "            \"tool_name\": \"send_message_to_agent_and_wait_for_reply\"\n",
        "        }\n",
        "    ]\n",
        ")"
      ]
    },
    {
      "cell_type": "code",
      "execution_count": null,
      "id": "4f974f56-52f2-4edd-b77f-5ea2d6ad8c4c",
      "metadata": {
        "height": 30,
        "id": "4f974f56-52f2-4edd-b77f-5ea2d6ad8c4c",
        "outputId": "f830a46a-c572-42bb-bd23-fc8b994d0328"
      },
      "outputs": [
        {
          "data": {
            "text/plain": [
              "['reject', 'send_message_to_agent_and_wait_for_reply']"
            ]
          },
          "execution_count": 10,
          "metadata": {},
          "output_type": "execute_result"
        }
      ],
      "source": [
        "[tool.name for tool in eval_agent.tools]"
      ]
    },
    {
      "cell_type": "markdown",
      "id": "63d89421a63830b6",
      "metadata": {
        "id": "63d89421a63830b6"
      },
      "source": [
        "### Sending resume data to agents"
      ]
    },
    {
      "cell_type": "code",
      "execution_count": null,
      "id": "28a1b392-62c9-4666-a037-132dfc15c20c",
      "metadata": {
        "height": 30,
        "id": "28a1b392-62c9-4666-a037-132dfc15c20c"
      },
      "outputs": [],
      "source": [
        "resume = open(\"resumes/tony_stark.txt\", \"r\").read()"
      ]
    },
    {
      "cell_type": "code",
      "execution_count": null,
      "id": "3affdafc-fbb2-4115-a4b0-1e681e1431f3",
      "metadata": {
        "height": 200,
        "id": "3affdafc-fbb2-4115-a4b0-1e681e1431f3",
        "outputId": "a160e8dd-5651-414b-c77e-b6a3a4225785"
      },
      "outputs": [
        {
          "name": "stdout",
          "output_type": "stream",
          "text": [
            "🧠 Reasoning: Evaluating Tony Stark's qualifications. He seems to have a strong background in React, which is ideal. I'll send him to the agent for further processing.\n",
            "-----------------------------------------------------\n",
            "🔧 Tool Call: send_message_to_agent_and_wait_for_reply\n",
            "{\n",
            "  \"message\": \"Candidate evaluation for Tony Stark:\\n\\n- **Position**: Frontend Engineer - React Specialist\\n- **Location**: Boston, MA\\n- **Experience**: Over 6 years in building web applications with a focus on React.\\n- **Education**: Bachelor's in Computer Science from MIT, 4.0 GPA.\\n- **Professional Experience**: Senior Frontend Developer leading a team, with significant achievements in performance improvement and user engagement.\\n\\n**Recommendation**: Strong candidate. Sending to agent-86a8c023-1027-4899-bcfc-574afd3733e9 for further evaluation.\",\n",
            "  \"other_agent_id\": \"agent-86a8c023-1027-4899-bcfc-574afd3733e9\",\n",
            "  \"request_heartbeat\": true\n",
            "}\n",
            "-----------------------------------------------------\n",
            "🔧 Tool Return: agent-86a8c023-1027-4899-bcfc-574afd3733e9 said: 'I've drafted the evaluation email for Tony Stark. Here it is:\n",
            "\n",
            "---\n",
            "Subject: Candidate Evaluation - Tony Stark\n",
            "\n",
            "Dear Team,\n",
            "\n",
            "I hope this message finds you well. \n",
            "\n",
            "I would like to present my evaluation for Tony Stark, a candidate for the Frontend Engineer - React Specialist position. \n",
            "\n",
            "- **Location**: Boston, MA  \n",
            "- **Experience**: Over 6 years in building web applications with a focus on React.  \n",
            "- **Education**: Bachelor's in Computer Science from MIT, 4.0 GPA.  \n",
            "- **Professional Experience**: Senior Frontend Developer leading a team, with significant achievements in performance improvement and user engagement.  \n",
            "\n",
            "**Recommendation**: I believe Tony is a strong candidate and would be a great fit for our team. \n",
            "\n",
            "Best regards,  \n",
            "[Your Name]  \n",
            "[Your Position]  \n",
            "[Your Company]\n",
            "---\n",
            "\n",
            "Let me know if you'd like to make any changes!'\n",
            "-----------------------------------------------------\n",
            "Usage: [message_type='usage_statistics' completion_tokens=218 prompt_tokens=2294 total_tokens=2512 step_count=1 steps_messages=None run_ids=None]\n"
          ]
        }
      ],
      "source": [
        "response = client.agents.messages.create_stream(\n",
        "    agent_id=eval_agent.id,\n",
        "    messages=[\n",
        "        {\n",
        "            \"role\": \"user\",\n",
        "            \"content\": f\"Evaluate: {resume}\"\n",
        "        }\n",
        "    ]\n",
        ")\n",
        "for message in response:\n",
        "    print_message(message)"
      ]
    },
    {
      "cell_type": "markdown",
      "id": "1e83381acdc4ced7",
      "metadata": {
        "id": "1e83381acdc4ced7"
      },
      "source": [
        "### Viewing outreach agent messages"
      ]
    },
    {
      "cell_type": "code",
      "execution_count": null,
      "id": "5e0d5964-8efe-45a0-b266-4da2ae79d2f3",
      "metadata": {
        "height": 64,
        "id": "5e0d5964-8efe-45a0-b266-4da2ae79d2f3",
        "outputId": "5eb5619d-c69b-4d04-c126-54c1595b14ad"
      },
      "outputs": [
        {
          "name": "stdout",
          "output_type": "stream",
          "text": [
            "🧠 Reasoning: Bootup sequence complete. Persona activated. Testing messaging functionality.\n",
            "-----------------------------------------------------\n",
            "🤖 Agent: More human than human is our motto.\n",
            "-----------------------------------------------------\n",
            "👤 User Message: {\n",
            "  \"type\": \"login\",\n",
            "  \"last_login\": \"Never (first login)\",\n",
            "  \"time\": \"2025-09-06 01:04:32 PM UTC+0000\"\n",
            "}\n",
            "-----------------------------------------------------\n",
            " System Message: {\"type\": \"system_alert\", \"message\": \"[Incoming message from agent with ID 'agent-fc0c136a-4a0f-4201-ad53-2133adcbd267' - to reply to this message, make sure to use the 'send_message' at the end, and the system will notify the sender of your response] Candidate evaluation for Tony Stark:\\n\\n- **Position**: Frontend Engineer - React Specialist\\n- **Location**: Boston, MA\\n- **Experience**: Over 6 years in building web applications with a focus on React.\\n- **Education**: Bachelor's in Computer Science from MIT, 4.0 GPA.\\n- **Professional Experience**: Senior Frontend Developer leading a team, with significant achievements in performance improvement and user engagement.\\n\\n**Recommendation**: Strong candidate. Sending to agent-86a8c023-1027-4899-bcfc-574afd3733e9 for further evaluation.\", \"time\": \"2025-09-06 01:05:14 PM UTC+0000\"}\n",
            "-----------------------------------------------------\n",
            "🧠 Reasoning: Drafting an email for a strong candidate evaluation. Need to highlight Tony Stark's qualifications and recommendation.\n",
            "-----------------------------------------------------\n",
            "🔧 Tool Call: draft_candidate_email\n",
            "{\n",
            "  \"content\": \"Subject: Candidate Evaluation - Tony Stark\\n\\nDear Team,\\n\\nI hope this message finds you well. \\n\\nI would like to present my evaluation for Tony Stark, a candidate for the Frontend Engineer - React Specialist position. \\n\\n- **Location**: Boston, MA  \\n- **Experience**: Over 6 years in building web applications with a focus on React.  \\n- **Education**: Bachelor's in Computer Science from MIT, 4.0 GPA.  \\n- **Professional Experience**: Senior Frontend Developer leading a team, with significant achievements in performance improvement and user engagement.  \\n\\n**Recommendation**: I believe Tony is a strong candidate and would be a great fit for our team. \\n\\nBest regards,  \\n[Your Name]  \\n[Your Position]  \\n[Your Company]\",\n",
            "  \"request_heartbeat\": true\n",
            "}\n",
            "-----------------------------------------------------\n",
            "🔧 Tool Return: {\n",
            "  \"status\": \"OK\",\n",
            "  \"message\": \"Here is a draft email: Subject: Candidate Evaluation - Tony Stark\\n\\nDear Team,\\n\\nI hope this message finds you well. \\n\\nI would like to present my evaluation for Tony Stark, a candidate for the Frontend Engineer - React Specialist position. \\n\\n- **Location**: Boston, MA  \\n- **Experience**: Over 6 years in building web applications with a focus on React.  \\n- **Education**: Bachelor's in Computer Science from MIT, 4.0 GPA.  \\n- **Professional Experience**: Senior Frontend Developer leading a team, with significant achievements in performance improvement and user engagement.  \\n\\n**Recommendation**: I believe Tony is a strong candidate and would be a great fit for our team. \\n\\nBest regards,  \\n[Your Name]  \\n[Your Position]  \\n[Your Company]\",\n",
            "  \"time\": \"2025-09-06 01:05:21 PM UTC+0000\"\n",
            "}\n",
            "-----------------------------------------------------\n",
            "👤 User Message: {\n",
            "  \"type\": \"heartbeat\",\n",
            "  \"reason\": \"[This is an automated system message hidden from the user] Function called using request_heartbeat=true, returning control\",\n",
            "  \"time\": \"2025-09-06 01:05:21 PM UTC+0000\"\n",
            "}\n",
            "-----------------------------------------------------\n",
            "🧠 Reasoning: Email draft completed for Tony Stark. Ready to present it to the user.\n",
            "-----------------------------------------------------\n",
            "🤖 Agent: I've drafted the evaluation email for Tony Stark. Here it is:\n",
            "\n",
            "---\n",
            "Subject: Candidate Evaluation - Tony Stark\n",
            "\n",
            "Dear Team,\n",
            "\n",
            "I hope this message finds you well. \n",
            "\n",
            "I would like to present my evaluation for Tony Stark, a candidate for the Frontend Engineer - React Specialist position. \n",
            "\n",
            "- **Location**: Boston, MA  \n",
            "- **Experience**: Over 6 years in building web applications with a focus on React.  \n",
            "- **Education**: Bachelor's in Computer Science from MIT, 4.0 GPA.  \n",
            "- **Professional Experience**: Senior Frontend Developer leading a team, with significant achievements in performance improvement and user engagement.  \n",
            "\n",
            "**Recommendation**: I believe Tony is a strong candidate and would be a great fit for our team. \n",
            "\n",
            "Best regards,  \n",
            "[Your Name]  \n",
            "[Your Position]  \n",
            "[Your Company]\n",
            "---\n",
            "\n",
            "Let me know if you'd like to make any changes!\n",
            "-----------------------------------------------------\n"
          ]
        }
      ],
      "source": [
        "# print messages for `outreach_agent`\n",
        "for message in client.agents.messages.list(agent_id=outreach_agent.id)[1:]:\n",
        "    print_message(message)"
      ]
    },
    {
      "cell_type": "markdown",
      "id": "5f5f132e-5477-493b-a04d-dbb2e82feb8d",
      "metadata": {
        "id": "5f5f132e-5477-493b-a04d-dbb2e82feb8d"
      },
      "source": [
        "## Section 3: Shared Memory"
      ]
    },
    {
      "cell_type": "markdown",
      "id": "9c8a554803567c34",
      "metadata": {
        "id": "9c8a554803567c34"
      },
      "source": [
        "### Updating information to shared memory blocks"
      ]
    },
    {
      "cell_type": "code",
      "execution_count": null,
      "id": "e3fc3f22-449f-4646-85af-91e6479bf45c",
      "metadata": {
        "height": 200,
        "id": "e3fc3f22-449f-4646-85af-91e6479bf45c",
        "outputId": "5c87a889-0040-4e60-c866-7b0a244aea38"
      },
      "outputs": [
        {
          "name": "stdout",
          "output_type": "stream",
          "text": [
            "🧠 Reasoning: Updating core memory to reflect the company's rebranding to Letta.\n",
            "-----------------------------------------------------\n",
            "🔧 Tool Call: core_memory_replace\n",
            "{\n",
            "  \"label\": \"company\",\n",
            "  \"old_content\": \"AgentOS\",\n",
            "  \"new_content\": \"Letta\",\n",
            "  \"request_heartbeat\": true\n",
            "}\n",
            "-----------------------------------------------------\n",
            "🔧 Tool Return: None\n",
            "-----------------------------------------------------\n",
            "🧠 Reasoning: Company rebranding acknowledged and memory updated successfully.\n",
            "-----------------------------------------------------\n",
            "🤖 Agent: Got it! I've updated the company name to Letta. If there's anything else you want to share or discuss, just let me know!\n",
            "-----------------------------------------------------\n",
            "Usage: [message_type='usage_statistics' completion_tokens=112 prompt_tokens=6640 total_tokens=6752 step_count=2 steps_messages=None run_ids=None]\n"
          ]
        }
      ],
      "source": [
        "response = client.agents.messages.create_stream(\n",
        "    agent_id=outreach_agent.id,\n",
        "    messages=[\n",
        "        {\n",
        "            \"role\": \"user\",\n",
        "            \"content\": \"The company has rebranded to Letta\"\n",
        "        }\n",
        "    ]\n",
        ")\n",
        "for message in response:\n",
        "    print_message(message)"
      ]
    },
    {
      "cell_type": "code",
      "execution_count": null,
      "id": "39799e40-8fd6-4dca-b104-54cedd7d3051",
      "metadata": {
        "height": 81,
        "id": "39799e40-8fd6-4dca-b104-54cedd7d3051",
        "outputId": "9152dbbf-00aa-4624-d079-0d7e301edc33"
      },
      "outputs": [
        {
          "data": {
            "text/plain": [
              "Block(value='The company is called Letta and is building AI tools to make it easier to create and deploy LLM agents.', limit=10000, name=None, is_template=False, label='company', description=None, metadata={}, id='block-3c83a560-d697-44fe-95e5-6445493961ef', created_by_id=None, last_updated_by_id=None, organization_id='org-00000000-0000-4000-8000-000000000000')"
            ]
          },
          "execution_count": 15,
          "metadata": {},
          "output_type": "execute_result"
        }
      ],
      "source": [
        "client.agents.blocks.retrieve(\n",
        "    agent_id=eval_agent.id,\n",
        "    block_label=\"company\"\n",
        ")"
      ]
    },
    {
      "cell_type": "code",
      "execution_count": null,
      "id": "01842c97-0786-45fd-90c1-2509224d742b",
      "metadata": {
        "height": 81,
        "id": "01842c97-0786-45fd-90c1-2509224d742b",
        "outputId": "f63f213c-86ca-4567-83ca-0974c4a65edc"
      },
      "outputs": [
        {
          "data": {
            "text/plain": [
              "Block(value='The company is called Letta and is building AI tools to make it easier to create and deploy LLM agents.', limit=10000, name=None, is_template=False, label='company', description=None, metadata={}, id='block-3c83a560-d697-44fe-95e5-6445493961ef', created_by_id=None, last_updated_by_id=None, organization_id='org-00000000-0000-4000-8000-000000000000')"
            ]
          },
          "execution_count": 16,
          "metadata": {},
          "output_type": "execute_result"
        }
      ],
      "source": [
        "client.agents.blocks.retrieve(\n",
        "    agent_id=outreach_agent.id,\n",
        "    block_label=\"company\"\n",
        ")"
      ]
    },
    {
      "cell_type": "markdown",
      "id": "656f50fb-46c9-4d4c-a97d-c75963736f7b",
      "metadata": {
        "id": "656f50fb-46c9-4d4c-a97d-c75963736f7b"
      },
      "source": [
        "## Section 4: Multi-agent groups"
      ]
    },
    {
      "cell_type": "code",
      "execution_count": null,
      "id": "436d144c-4bed-492e-86c3-c31a7ac459d3",
      "metadata": {
        "height": 300,
        "id": "436d144c-4bed-492e-86c3-c31a7ac459d3"
      },
      "outputs": [],
      "source": [
        "def print_message_multiagent(message):\n",
        "    if message.message_type == \"reasoning_message\":\n",
        "        print(f\"🧠 Reasoning ({message.name}): \" + message.reasoning)\n",
        "    elif message.message_type == \"assistant_message\":\n",
        "        print(f\"🤖 Agent ({message.name}): \" + message.content)\n",
        "    elif message.message_type == \"tool_call_message\":\n",
        "        print(f\"🔧 Tool Call ({message.name}): \" + message.tool_call.name + \"\\n\" + message.tool_call.arguments)\n",
        "    elif message.message_type == \"tool_return_message\":\n",
        "        print(f\"🔧 Tool Return ({message.name}): \" + message.tool_return)\n",
        "    elif message.message_type == \"user_message\":\n",
        "        print(\"👤 User Message: \" + message.content)\n",
        "    elif message.message_type == \"usage_statistics\":\n",
        "        # for streaming specifically, we send the final chunk that contains the usage statistics\n",
        "        print(f\"Usage: [{message}]\")\n",
        "        return\n",
        "    print(\"-----------------------------------------------------\")"
      ]
    },
    {
      "cell_type": "markdown",
      "id": "aae6a9c4de52f64",
      "metadata": {
        "id": "aae6a9c4de52f64"
      },
      "source": [
        "### Recreating the outreach and evaluation agents"
      ]
    },
    {
      "cell_type": "code",
      "execution_count": null,
      "id": "ad8828be-820a-46d1-a784-183278c86eaf",
      "metadata": {
        "height": 404,
        "id": "ad8828be-820a-46d1-a784-183278c86eaf"
      },
      "outputs": [],
      "source": [
        "# create the outreach agent\n",
        "outreach_agent = client.agents.create(\n",
        "    name=\"outreach_agent\",\n",
        "    memory_blocks=[\n",
        "        { \"label\": \"persona\", \"value\": outreach_persona}\n",
        "    ],\n",
        "    model=\"openai/gpt-4o-mini-2024-07-18\",\n",
        "    embedding=\"openai/text-embedding-ada-002\",\n",
        "    tool_ids=[draft_email_tool.id],\n",
        "    block_ids=[company_block.id]\n",
        ")\n",
        "\n",
        "# create the evaluation agent\n",
        "eval_agent = client.agents.create(\n",
        "    name=\"eval_agent\",\n",
        "    memory_blocks=[\n",
        "        { \"label\": \"persona\", \"value\": eval_persona}\n",
        "    ],\n",
        "    model=\"openai/gpt-4o-mini-2024-07-18\",\n",
        "    embedding=\"openai/text-embedding-ada-002\",\n",
        "    tool_ids=[reject_tool.id],\n",
        "    block_ids=[company_block.id]\n",
        ")"
      ]
    },
    {
      "cell_type": "markdown",
      "id": "21d93e3c8807d7c3",
      "metadata": {
        "id": "21d93e3c8807d7c3"
      },
      "source": [
        "### Creating a round-robin agent group"
      ]
    },
    {
      "cell_type": "code",
      "execution_count": null,
      "id": "b7596508-25f9-4ac3-aa79-e78f83036962",
      "metadata": {
        "height": 132,
        "id": "b7596508-25f9-4ac3-aa79-e78f83036962"
      },
      "outputs": [],
      "source": [
        "\"\"\"\n",
        "Round-Robin Group\n",
        "\"\"\"\n",
        "round_robin_group = client.groups.create(\n",
        "    description=\"This team is responsible for recruiting candidates.\",\n",
        "    agent_ids=[eval_agent.id, outreach_agent.id],\n",
        ")"
      ]
    },
    {
      "cell_type": "markdown",
      "id": "16653b59cf1b601f",
      "metadata": {
        "id": "16653b59cf1b601f"
      },
      "source": [
        "### Messaging an agent group"
      ]
    },
    {
      "cell_type": "code",
      "execution_count": null,
      "id": "e0e76277-9277-4db1-b0cb-843622bd331d",
      "metadata": {
        "height": 30,
        "id": "e0e76277-9277-4db1-b0cb-843622bd331d"
      },
      "outputs": [],
      "source": [
        "resume = open(\"resumes/spongebob_squarepants.txt\", \"r\").read()"
      ]
    },
    {
      "cell_type": "code",
      "execution_count": null,
      "id": "b4fb5de7-631b-45e1-9c2e-e52b1a133b08",
      "metadata": {
        "height": 115,
        "id": "b4fb5de7-631b-45e1-9c2e-e52b1a133b08"
      },
      "outputs": [],
      "source": [
        "response_stream = client.groups.messages.create_stream(\n",
        "    group_id=round_robin_group.id,\n",
        "    messages=[\n",
        "       {\"role\": \"user\", \"content\": f\"Evaluate: {resume}\"}\n",
        "    ]\n",
        ")"
      ]
    },
    {
      "cell_type": "code",
      "execution_count": null,
      "id": "f8bf8bd2-0fa1-48c2-b1d9-1bd711f38472",
      "metadata": {
        "height": 47,
        "id": "f8bf8bd2-0fa1-48c2-b1d9-1bd711f38472",
        "outputId": "c9b3e8c5-932a-43e4-fe66-cc0edb6d630d"
      },
      "outputs": [
        {
          "name": "stdout",
          "output_type": "stream",
          "text": [
            "🧠 Reasoning (eval_agent): Evaluating candidate Spongebob Squarepants based on provided resume.\n",
            "-----------------------------------------------------\n",
            "🤖 Agent (eval_agent): Spongebob Squarepants has a strong background in AI research and agent technology, with a Ph.D. and relevant experience. His publications and leadership role at FutureTech Labs indicate he is a strong candidate. I will send him to agent ID agent-86a8c023-1027-4899-bcfc-574afd3733e9 for further processing.\n",
            "-----------------------------------------------------\n",
            "🧠 Reasoning (outreach_agent): Drafting email to candidate Spongebob Squarepants for further processing.\n",
            "-----------------------------------------------------\n",
            "🔧 Tool Call (outreach_agent): draft_candidate_email\n",
            "{\n",
            "  \"content\": \"Subject: Exciting Opportunity at Our Company!\\n\\nDear Spongebob,\\n\\nI hope this message finds you well! We were impressed with your background in AI research and agent technology, particularly your work at FutureTech Labs and your recent publications.\\n\\nWe would like to discuss a potential opportunity that aligns perfectly with your expertise. Please let us know your availability for a conversation.\\n\\nLooking forward to hearing from you soon!\\n\\nBest regards,\\n[Your Name]  \\n[Your Position]  \\n[Your Company]  \\n[Your Contact Information]  \\n\",\n",
            "  \"request_heartbeat\": true\n",
            "}\n",
            "-----------------------------------------------------\n",
            "🔧 Tool Return (outreach_agent): Here is a draft email: Subject: Exciting Opportunity at Our Company!\n",
            "\n",
            "Dear Spongebob,\n",
            "\n",
            "I hope this message finds you well! We were impressed with your background in AI research and agent technology, particularly your work at FutureTech Labs and your recent publications.\n",
            "\n",
            "We would like to discuss a potential opportunity that aligns perfectly with your expertise. Please let us know your availability for a conversation.\n",
            "\n",
            "Looking forward to hearing from you soon!\n",
            "\n",
            "Best regards,\n",
            "[Your Name]  \n",
            "[Your Position]  \n",
            "[Your Company]  \n",
            "[Your Contact Information]  \n",
            "\n",
            "-----------------------------------------------------\n",
            "🧠 Reasoning (outreach_agent): Email drafted successfully. Now ready to assist with any further actions.\n",
            "-----------------------------------------------------\n",
            "🤖 Agent (outreach_agent): I've drafted the email to Spongebob Squarepants. Let me know if you'd like to make any changes or if there's anything else I can help with!\n",
            "-----------------------------------------------------\n",
            "Usage: [message_type='usage_statistics' completion_tokens=347 prompt_tokens=8718 total_tokens=9065 step_count=2 steps_messages=None run_ids=None]\n"
          ]
        }
      ],
      "source": [
        "for message in response_stream:\n",
        "    print_message_multiagent(message)"
      ]
    }
  ],
  "metadata": {
    "kernelspec": {
      "display_name": "Python 3 (ipykernel)",
      "language": "python",
      "name": "python3"
    },
    "language_info": {
      "codemirror_mode": {
        "name": "ipython",
        "version": 3
      },
      "file_extension": ".py",
      "mimetype": "text/x-python",
      "name": "python",
      "nbconvert_exporter": "python",
      "pygments_lexer": "ipython3",
      "version": "3.11.9"
    },
    "colab": {
      "provenance": []
    }
  },
  "nbformat": 4,
  "nbformat_minor": 5
}