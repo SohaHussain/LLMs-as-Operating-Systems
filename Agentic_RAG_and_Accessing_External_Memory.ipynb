{
  "cells": [
    {
      "cell_type": "markdown",
      "id": "88d8682d",
      "metadata": {
        "ExecuteTime": {
          "end_time": "2025-04-22T20:46:12.008948Z",
          "start_time": "2025-04-22T20:46:12.005558Z"
        },
        "height": 30,
        "id": "88d8682d"
      },
      "source": [
        "# Agentic Rag and External Memory"
      ]
    },
    {
      "cell_type": "markdown",
      "id": "93e3d623d9dc2d39",
      "metadata": {
        "id": "93e3d623d9dc2d39"
      },
      "source": [
        "## Setup"
      ]
    },
    {
      "cell_type": "code",
      "execution_count": null,
      "id": "7f47ddae-d743-4627-8b5d-7d178e674e18",
      "metadata": {
        "height": 64,
        "id": "7f47ddae-d743-4627-8b5d-7d178e674e18"
      },
      "outputs": [],
      "source": [
        "from letta_client import Letta\n",
        "\n",
        "client = Letta(base_url=\"http://localhost:8283\")"
      ]
    },
    {
      "cell_type": "code",
      "execution_count": null,
      "id": "806154d9-6c23-4f05-8c0f-ba5698d75a70",
      "metadata": {
        "height": 200,
        "id": "806154d9-6c23-4f05-8c0f-ba5698d75a70"
      },
      "outputs": [],
      "source": [
        "def print_message(message):\n",
        "    if message.message_type == \"reasoning_message\":\n",
        "        print(\"🧠 Reasoning: \" + message.reasoning)\n",
        "    elif message.message_type == \"assistant_message\":\n",
        "        print(\"🤖 Agent: \" + message.content)\n",
        "    elif message.message_type == \"tool_call_message\":\n",
        "        print(\"🔧 Tool Call: \" + message.tool_call.name + \"\\n\" + message.tool_call.arguments)\n",
        "    elif message.message_type == \"tool_return_message\":\n",
        "        print(\"🔧 Tool Return: \" + message.tool_return)\n",
        "    elif message.message_type == \"user_message\":\n",
        "        print(\"👤 User Message: \" + message.content)"
      ]
    },
    {
      "cell_type": "markdown",
      "id": "0d888474-9748-4e6e-a80d-0c13924d6992",
      "metadata": {
        "id": "0d888474-9748-4e6e-a80d-0c13924d6992"
      },
      "source": [
        "## Section 1: Data Sources"
      ]
    },
    {
      "cell_type": "markdown",
      "id": "e20a9722b6ca3729",
      "metadata": {
        "id": "e20a9722b6ca3729"
      },
      "source": [
        "### Creating a source"
      ]
    },
    {
      "cell_type": "code",
      "execution_count": null,
      "id": "372a8f61-124d-40ac-830a-2543f5ca836e",
      "metadata": {
        "height": 98,
        "id": "372a8f61-124d-40ac-830a-2543f5ca836e",
        "outputId": "fb4df792-36d0-4b05-bec6-b15b5dafa6fa"
      },
      "outputs": [
        {
          "data": {
            "text/plain": [
              "Source(id='source-5eb6b6aa-e23a-4687-8354-919488dfd8e4', name='employee_handbook', description=None, embedding_config=EmbeddingConfig(embedding_endpoint_type='openai', embedding_endpoint='http://jupyter-api-proxy.internal.dlai/rev-proxy/letta', embedding_model='text-embedding-3-small', embedding_dim=2000, embedding_chunk_size=300, handle='openai/text-embedding-3-small', azure_endpoint=None, azure_version=None, azure_deployment=None), metadata=None, created_by_id='user-00000000-0000-4000-8000-000000000000', last_updated_by_id='user-00000000-0000-4000-8000-000000000000', created_at=datetime.datetime(2025, 9, 6, 12, 56, 27), updated_at=datetime.datetime(2025, 9, 6, 12, 56, 27), organization_id='org-00000000-0000-4000-8000-000000000000')"
            ]
          },
          "execution_count": 5,
          "metadata": {},
          "output_type": "execute_result"
        }
      ],
      "source": [
        "source = client.sources.create(\n",
        "    name=\"employee_handbook\",\n",
        "    embedding=\"openai/text-embedding-3-small\"\n",
        ")\n",
        "source"
      ]
    },
    {
      "cell_type": "markdown",
      "id": "53a1c379f105c65f",
      "metadata": {
        "id": "53a1c379f105c65f"
      },
      "source": [
        "### Uploading a source"
      ]
    },
    {
      "cell_type": "code",
      "execution_count": null,
      "id": "53ea6718-ae10-4413-9ad6-74af1192510e",
      "metadata": {
        "height": 81,
        "id": "53ea6718-ae10-4413-9ad6-74af1192510e"
      },
      "outputs": [],
      "source": [
        "job = client.sources.files.upload(\n",
        "    source_id=source.id,\n",
        "    file=open(\"handbook.pdf\", \"rb\")\n",
        ")"
      ]
    },
    {
      "cell_type": "code",
      "execution_count": null,
      "id": "64bbd29a-5308-40ac-8181-3d3bd5671498",
      "metadata": {
        "height": 30,
        "id": "64bbd29a-5308-40ac-8181-3d3bd5671498",
        "outputId": "a6fdedec-937d-4e61-9ac2-63fdf1ee4f40"
      },
      "outputs": [
        {
          "data": {
            "text/plain": [
              "'created'"
            ]
          },
          "execution_count": 7,
          "metadata": {},
          "output_type": "execute_result"
        }
      ],
      "source": [
        "job.status"
      ]
    },
    {
      "cell_type": "markdown",
      "id": "fb144538c64abce3",
      "metadata": {
        "id": "fb144538c64abce3"
      },
      "source": [
        "### Viewing job status over time"
      ]
    },
    {
      "cell_type": "code",
      "execution_count": null,
      "id": "19da8f6d-e6b1-4013-8dcd-1a54bf79f383",
      "metadata": {
        "height": 132,
        "id": "19da8f6d-e6b1-4013-8dcd-1a54bf79f383",
        "outputId": "36ef5968-6977-4e95-dd82-1852ba25fec7"
      },
      "outputs": [
        {
          "name": "stdout",
          "output_type": "stream",
          "text": [
            "completed\n"
          ]
        }
      ],
      "source": [
        "import time\n",
        "from letta_client import JobStatus\n",
        "\n",
        "while job.status != 'completed':\n",
        "    job = client.jobs.retrieve(job.id)\n",
        "    print(job.status)\n",
        "    time.sleep(1)"
      ]
    },
    {
      "cell_type": "markdown",
      "id": "42d48a6f32d5d4d0",
      "metadata": {
        "id": "42d48a6f32d5d4d0"
      },
      "source": [
        "### Viewing job metadata"
      ]
    },
    {
      "cell_type": "code",
      "execution_count": null,
      "id": "51db2983-fc35-48e4-9e71-8fd7889f7e5c",
      "metadata": {
        "height": 30,
        "id": "51db2983-fc35-48e4-9e71-8fd7889f7e5c",
        "outputId": "5a1ba94c-1a21-4818-d0f2-db356c92d9cb"
      },
      "outputs": [
        {
          "data": {
            "text/plain": [
              "{'type': 'embedding',\n",
              " 'filename': 'handbook.pdf',\n",
              " 'source_id': 'source-5eb6b6aa-e23a-4687-8354-919488dfd8e4',\n",
              " 'num_passages': 11,\n",
              " 'num_documents': 1}"
            ]
          },
          "execution_count": 9,
          "metadata": {},
          "output_type": "execute_result"
        }
      ],
      "source": [
        "job.metadata"
      ]
    },
    {
      "cell_type": "code",
      "execution_count": null,
      "id": "e9a906a0-c157-4558-939f-8fc7ed52b9ca",
      "metadata": {
        "height": 81,
        "id": "e9a906a0-c157-4558-939f-8fc7ed52b9ca",
        "outputId": "77c2ca0a-bec9-47fb-a198-5a0dbc3e6875"
      },
      "outputs": [
        {
          "data": {
            "text/plain": [
              "11"
            ]
          },
          "execution_count": 10,
          "metadata": {},
          "output_type": "execute_result"
        }
      ],
      "source": [
        "passages = client.sources.passages.list(\n",
        "    source_id=source.id,\n",
        ")\n",
        "len(passages)"
      ]
    },
    {
      "cell_type": "markdown",
      "id": "e0486dfa6a4026ea",
      "metadata": {
        "id": "e0486dfa6a4026ea"
      },
      "source": [
        "### Creating an agent and attaching sources"
      ]
    },
    {
      "cell_type": "code",
      "execution_count": null,
      "id": "a32026b6-f820-4ac6-986a-4bc567b2cb1a",
      "metadata": {
        "height": 251,
        "id": "a32026b6-f820-4ac6-986a-4bc567b2cb1a"
      },
      "outputs": [],
      "source": [
        "agent_state = client.agents.create(\n",
        "    memory_blocks=[\n",
        "        {\n",
        "          \"label\": \"human\",\n",
        "          \"value\": \"My name is Sarah\"\n",
        "        },\n",
        "        {\n",
        "          \"label\": \"persona\",\n",
        "          \"value\": \"You are a helpful assistant\"\n",
        "        }\n",
        "    ],\n",
        "    model=\"openai/gpt-4o-mini-2024-07-18\",\n",
        "    embedding=\"openai/text-embedding-3-small\"\n",
        ")"
      ]
    },
    {
      "cell_type": "code",
      "execution_count": null,
      "id": "dec14cd1-dadd-4f22-bdb0-b8fae9be8c82",
      "metadata": {
        "height": 81,
        "id": "dec14cd1-dadd-4f22-bdb0-b8fae9be8c82"
      },
      "outputs": [],
      "source": [
        "agent_state = client.agents.sources.attach(\n",
        "    agent_id=agent_state.id,\n",
        "    source_id=source.id\n",
        ")"
      ]
    },
    {
      "cell_type": "markdown",
      "id": "8f12c756e74d1e67",
      "metadata": {
        "id": "8f12c756e74d1e67"
      },
      "source": [
        "### Viewing agent's attached sources"
      ]
    },
    {
      "cell_type": "code",
      "execution_count": null,
      "id": "e3a8ae36-80b4-4077-a066-77938dbf71f4",
      "metadata": {
        "height": 30,
        "id": "e3a8ae36-80b4-4077-a066-77938dbf71f4",
        "outputId": "48e09e06-29af-49ac-cf1e-56c9eb92cfb9"
      },
      "outputs": [
        {
          "data": {
            "text/plain": [
              "[Source(id='source-5eb6b6aa-e23a-4687-8354-919488dfd8e4', name='employee_handbook', description=None, embedding_config=EmbeddingConfig(embedding_endpoint_type='openai', embedding_endpoint='http://jupyter-api-proxy.internal.dlai/rev-proxy/letta', embedding_model='text-embedding-3-small', embedding_dim=2000, embedding_chunk_size=300, handle='openai/text-embedding-3-small', azure_endpoint=None, azure_version=None, azure_deployment=None), metadata=None, created_by_id='user-00000000-0000-4000-8000-000000000000', last_updated_by_id='user-00000000-0000-4000-8000-000000000000', created_at=datetime.datetime(2025, 9, 6, 12, 56, 27), updated_at=datetime.datetime(2025, 9, 6, 12, 56, 27), organization_id='org-00000000-0000-4000-8000-000000000000')]"
            ]
          },
          "execution_count": 13,
          "metadata": {},
          "output_type": "execute_result"
        }
      ],
      "source": [
        "client.agents.sources.list(agent_id=agent_state.id)"
      ]
    },
    {
      "cell_type": "code",
      "execution_count": null,
      "id": "176b2ef9-a601-4887-8767-98e73d6dd4d2",
      "metadata": {
        "height": 47,
        "id": "176b2ef9-a601-4887-8767-98e73d6dd4d2",
        "outputId": "93fb2c04-a383-4277-9f27-ada7b6eecc42"
      },
      "outputs": [
        {
          "data": {
            "text/plain": [
              "11"
            ]
          },
          "execution_count": 14,
          "metadata": {},
          "output_type": "execute_result"
        }
      ],
      "source": [
        "passages = client.agents.passages.list(agent_id=agent_state.id)\n",
        "len(passages)"
      ]
    },
    {
      "cell_type": "markdown",
      "id": "f85bb1202c672916",
      "metadata": {
        "id": "f85bb1202c672916"
      },
      "source": [
        "### Messaging agents and referencing attached sources"
      ]
    },
    {
      "cell_type": "code",
      "execution_count": null,
      "id": "55993ee7-9b7a-4a4f-b22d-417f8865124d",
      "metadata": {
        "height": 200,
        "id": "55993ee7-9b7a-4a4f-b22d-417f8865124d",
        "outputId": "4a67576c-761b-4f57-a02d-16b362bcfbe5"
      },
      "outputs": [
        {
          "name": "stdout",
          "output_type": "stream",
          "text": [
            "🧠 Reasoning: Searching for any relevant details about vacation policies based on the user's request.\n",
            "🔧 Tool Call: archival_memory_search\n",
            "{\n",
            "  \"query\": \"vacation policies\",\n",
            "  \"page\": 0,\n",
            "  \"start\": 0,\n",
            "  \"request_heartbeat\": true\n",
            "}\n",
            "🔧 Tool Return: ([{'timestamp': '2025-09-06 12:56:37.482848', 'content': \"priorities. Assuch, vacationsarepermittedonlyunderthefollowingcondition: youmust provideanAI agent that matchesorsurpassesyourowncompetenciestofullyperformyourdutiesduringyourabsence.\\nTheAI replacement must beequivalentlycompetent inall aspectsof yourrole, ensuringseamlesscontinuityof operations. Youarerequiredtosubmit theAI agent toyourimmediatesupervisorat least fourweekspriortoyourintendedleavedate. Thistimeframeallowsforrigoroustestingandevaluationof theAI'scapabilitiesandreliability.\\nTheAI will undergocomprehensiveassessmentstoverifyitsproficiencyandeffectivenessinhandlingyourresponsibilities. Approval of theAI agent isat thesolediscretionof uppermanagement, andsubmissiondoesnot guaranteeapproval forvacationleave. It isessential that theAI meetsall performancecriteriawithout exception.\\nDuringyourabsence, youremainaccountableforanydeficienciesintheAI agent'sperformance. ShouldanyfailuresorissuesariseduetotheAI'sinadequacies, youmayfacedisciplinaryactionuponyourreturn. Thiscouldinclude, but isnot limitedto,reprimand,\"}, {'timestamp': '2025-09-06 12:56:37.467213', 'content': \"recognitionof achievements, andidentificationof areasforimprovement. Webelievethat regularassessmentsareessential forfosteringprofessional growthandmaintaininghighperformancestandardsacrosstheorganization. Youractiveparticipationinthisprocessiscrucial toyoursuccessandtheoverall effectivenessof ourteam.\\n4.CodeofConduct\\nAll employeesarerequiredtoadheretothehighest standardsof professional conduct.Thisincludescomplyingwithall companypolicieswithout exception, maintainingprofessionalisminall interactions, andprotectingcompanyassetsandconfidentialinformation. Youareexpectedtoconduct yourself withintegrity, honesty, andrespect forothersat all times. Anyactivitiesthat couldconflict withthecompany'sinterestsorcompromiseitsreputationarestrictlyprohibited. Violationsof thecodeof conduct aretakenseriouslyandmayresult indisciplinaryaction, uptoandincludingterminationofemployment.\\n5.VacationPolicy\\nAt ClosedAI, werecognizethetheoretical importanceof rest andpersonal time.However, ensuringuninterruptedproductivityandmaintainingourcompetitiveedgeintheindustryareparamount priorities. Assuch, vacationsarepermittedonlyunderthefollowingcondition: youmust\"}, {'timestamp': '2025-09-06 12:56:37.167728', 'content': \"EmployeeHandbook\\nTableofContents\\n1. Introduction2. CompanyMissionandValues3. EmploymentPolicies○ 3.1WorkingHours○ 3.2CompensationandBenefits○ 3.3PerformanceEvaluation4. CodeofConduct5. VacationPolicy6. ConfidentialityAgreement7. IntellectualProperty8. DisciplinaryProcedures9. Acknowledgment\\n1.Introduction\\nWelcometoClosedAI Corporation. Wearepleasedtohaveyoujoinourteamofdedicatedprofessionalscommittedtoadvancingthefrontiersof artificial intelligenceandmachinelearningtechnologies. Asaleadingentityinthisrapidlyevolvingindustry, weprideourselvesonmaintainingapositionat theforefront of innovationandexcellence.Thisemployeehandbookisdesignedtoprovideyouwithacomprehensiveunderstandingof ourcompany'spolicies, procedures, andexpectations. It isimperativethat youreadandfamiliarizeyourself withitscontents, asadherencetotheseguidelinesismandatoryforall employees. Yourcommitment tothesestandardsisessential toourcollectivesuccessandyourprofessional growthwithinthecompany.\\n2.CompanyMissionandValues\\nAt ClosedAI,\"}, {'timestamp': '2025-09-06 12:56:37.907505', 'content': \"thecompany'sassetsaresafeguardedandthat wecancontinuetoinnovatewithout compromise.\\n8.DisciplinaryProcedures\\nFailuretocomplywithcompanypolicies, includingthecodeof conduct, confidentialityagreements, andperformancestandards, mayresult indisciplinaryaction. Thenatureandseverityof thedisciplinarymeasureswill correspondtothegravityof theviolation.Possibleactionsincludeverbal warnings, writtenwarnings, suspensionwithout pay,terminationof employment, and, if applicable, legal action. Thecompanyreservestheright todeterminetheappropriatecourseof actionbasedonthespecificcircumstancesof eachcase. Ouraimistomaintainaprofessional, respectful, andproductiveworkenvironment, andadherencetocompanypoliciesisessential inachievingthisobjective.\\n9.Acknowledgment\"}, {'timestamp': '2025-09-06 12:56:37.921814', 'content': 'Bycontinuingyouremployment withClosedAI Corporation, youacknowledgethat youhaveread, understood, andagreedtoabidebyall policiesandproceduresoutlinedinthishandbook. Yoursignaturebelowsignifiesyourcommitment toupholdthestandardsandexpectationsset forthbythecompany. Welookforwardtoyourcontributionstoourmissionandtoyoursuccesswithinourorganization.\\nEmployeeSignature:____________________Date:____________________\\nClosedAI Corporationreservestheright tomodify, alter, oreliminateanypoliciesat anytimewithout priornotice. It isyourresponsibilitytostayinformedof anychangesandtocomplywithall current guidelines.'}], 5)\n",
            "🧠 Reasoning: Compiling the relevant details about the company's vacation policies for Sarah.\n",
            "🤖 Agent: Here are the key points from the vacation policy: \n",
            "\n",
            "1. Vacations are permitted only if you provide an AI agent that matches or surpasses your competencies to perform your duties during your absence. \n",
            "2. You must submit the AI agent to your supervisor at least four weeks prior to your intended leave date for evaluation. \n",
            "3. You remain accountable for any deficiencies in the AI agent's performance during your absence. \n",
            "\n",
            "Let me know if you need more information!\n"
          ]
        }
      ],
      "source": [
        "response = client.agents.messages.create(\n",
        "    agent_id=agent_state.id,\n",
        "    messages=[\n",
        "        {\n",
        "            \"role\": \"user\",\n",
        "            \"content\": \"Search archival for our company's vacation policies\"\n",
        "        }\n",
        "    ]\n",
        ")\n",
        "for message in response.messages:\n",
        "    print_message(message)"
      ]
    },
    {
      "cell_type": "markdown",
      "id": "280bcbdb-d516-45c5-a5ef-c6ab82a2fa74",
      "metadata": {
        "id": "280bcbdb-d516-45c5-a5ef-c6ab82a2fa74"
      },
      "source": [
        "## Section 2: Connecting Data with Custom Tools"
      ]
    },
    {
      "cell_type": "markdown",
      "id": "2ba10ac60598a347",
      "metadata": {
        "id": "2ba10ac60598a347"
      },
      "source": [
        "### Creating a custom tool"
      ]
    },
    {
      "cell_type": "code",
      "execution_count": null,
      "id": "dc3a7c76-71d3-43ea-8e04-0196cf7ab680",
      "metadata": {
        "height": 370,
        "id": "dc3a7c76-71d3-43ea-8e04-0196cf7ab680"
      },
      "outputs": [],
      "source": [
        "def query_birthday_db(name: str):\n",
        "    \"\"\"\n",
        "    This tool queries an external database to\n",
        "    lookup the birthday of someone given their name.\n",
        "\n",
        "    Args:\n",
        "        name (str): The name to look up\n",
        "\n",
        "    Returns:\n",
        "        birthday (str): The birthday in mm-dd-yyyy format\n",
        "\n",
        "    \"\"\"\n",
        "    my_fake_data = {\n",
        "        \"bob\": \"03-06-1997\",\n",
        "        \"sarah\": \"07-06-1993\"\n",
        "    }\n",
        "    name = name.lower()\n",
        "    if name not in my_fake_data:\n",
        "        return None\n",
        "    else:\n",
        "        return my_fake_data[name]"
      ]
    },
    {
      "cell_type": "code",
      "execution_count": null,
      "id": "46df1af0-1575-4f71-bd87-286940fd3915",
      "metadata": {
        "height": 30,
        "id": "46df1af0-1575-4f71-bd87-286940fd3915"
      },
      "outputs": [],
      "source": [
        "birthday_tool = client.tools.upsert_from_function(func=query_birthday_db)"
      ]
    },
    {
      "cell_type": "markdown",
      "id": "66ddf294cc61cfaf",
      "metadata": {
        "id": "66ddf294cc61cfaf"
      },
      "source": [
        "### Creating an agent with access to tools"
      ]
    },
    {
      "cell_type": "code",
      "execution_count": null,
      "id": "41d77187-1d01-412d-b074-ce0dbb72c081",
      "metadata": {
        "height": 302,
        "id": "41d77187-1d01-412d-b074-ce0dbb72c081"
      },
      "outputs": [],
      "source": [
        "agent_state = client.agents.create(\n",
        "    memory_blocks=[\n",
        "        {\n",
        "          \"label\": \"human\",\n",
        "          \"value\": \"My name is Sarah\"\n",
        "        },\n",
        "        {\n",
        "          \"label\": \"persona\",\n",
        "          \"value\": \"You are a agent with access to a birthday_db \" \\\n",
        "            + \"that you use to lookup information about users' birthdays.\"\n",
        "        }\n",
        "    ],\n",
        "    model=\"openai/gpt-4o-mini-2024-07-18\",\n",
        "    embedding=\"openai/text-embedding-3-small\",\n",
        "    tool_ids=[birthday_tool.id],\n",
        "    #tool_exec_environment_variables={\"DB_KEY\": \"my_key\"}\n",
        ")"
      ]
    },
    {
      "cell_type": "code",
      "execution_count": null,
      "id": "fa3ecbb0-0ca9-40de-b0ac-a8ef4873c784",
      "metadata": {
        "height": 217,
        "id": "fa3ecbb0-0ca9-40de-b0ac-a8ef4873c784",
        "outputId": "97e1a583-c580-4d64-deef-702c80ed10ea"
      },
      "outputs": [
        {
          "name": "stdout",
          "output_type": "stream",
          "text": [
            "🧠 Reasoning: User is asking about their birthday. Looking it up in the birthday database.\n",
            "🔧 Tool Call: query_birthday_db\n",
            "{\n",
            "  \"name\": \"Sarah\",\n",
            "  \"request_heartbeat\": true\n",
            "}\n",
            "🔧 Tool Return: 07-06-1993\n",
            "🧠 Reasoning: Birthday retrieved successfully. Sending response to user.\n",
            "🤖 Agent: Your birthday is on July 6, 1993! 🎉\n"
          ]
        }
      ],
      "source": [
        "# send a message to the agent\n",
        "response = client.agents.messages.create_stream(\n",
        "    agent_id=agent_state.id,\n",
        "    messages=[\n",
        "        {\n",
        "            \"role\": \"user\",\n",
        "            \"content\": \"whens my bday????\"\n",
        "        }\n",
        "    ]\n",
        ")\n",
        "for message in response:\n",
        "    print_message(message)"
      ]
    }
  ],
  "metadata": {
    "kernelspec": {
      "display_name": "Python 3 (ipykernel)",
      "language": "python",
      "name": "python3"
    },
    "language_info": {
      "codemirror_mode": {
        "name": "ipython",
        "version": 3
      },
      "file_extension": ".py",
      "mimetype": "text/x-python",
      "name": "python",
      "nbconvert_exporter": "python",
      "pygments_lexer": "ipython3",
      "version": "3.11.9"
    },
    "colab": {
      "provenance": []
    }
  },
  "nbformat": 4,
  "nbformat_minor": 5
}